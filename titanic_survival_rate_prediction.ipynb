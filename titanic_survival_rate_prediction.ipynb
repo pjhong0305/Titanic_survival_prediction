{
 "cells": [
  {
   "cell_type": "markdown",
   "metadata": {},
   "source": [
    "# 泰坦尼克号生存率预测"
   ]
  },
  {
   "cell_type": "markdown",
   "metadata": {},
   "source": [
    "#### 步骤索引  \n",
    "1. 提出问题\n",
    "2. 数据预分析\n",
    "    * 导入数据\n",
    "    * 合并数据集\n",
    "    * 查看数据集特征\n",
    "3. 数据处理\n",
    "    * 缺失值处理\n",
    "    * 特征值处理（数值化）\n",
    "4. 数据分析\n",
    "    * 相关性分析\n",
    "    * 生还率影响因素分析\n",
    "5. 生还率预测\n",
    "    * 机器学习模型构建\n",
    "    * 机器学习模型训练\n",
    "    * 用测试数据对模型进行评分\n",
    "    * 用模型预测生还率"
   ]
  },
  {
   "cell_type": "markdown",
   "metadata": {},
   "source": [
    "#### 字段数值意义\n",
    "* Survived　　0：死亡；1：生还  \n",
    "* Pclass　　　1：上等舱；2：中等舱；3：下等舱 \n",
    "* Sex　　　　1：男性；0：女性             \n",
    "* Embarked　　0：表示S=英国 南安普顿Southampton；1：表示C=法国 瑟堡市Cherbourg；2：表示Q=爱尔兰 昆士敦Queenstown     \n",
    "* IsAlone　　 1：表示是独自一人登船；0：表示有亲属陪伴  \n",
    "* Titel　　　 0：表示'Mr'；1：表示'Miss'；2：表示'Mrs'；3：表示'Master'；4：表示'Rare' "
   ]
  },
  {
   "cell_type": "markdown",
   "metadata": {},
   "source": [
    "## 1、提出问题"
   ]
  },
  {
   "cell_type": "markdown",
   "metadata": {},
   "source": [
    "泰坦尼克号事故中，乘客的生还率受什么因素影响较大，是否可以根据乘客的数据记录预测出乘客的生还率"
   ]
  },
  {
   "cell_type": "markdown",
   "metadata": {},
   "source": [
    "## 2、数据预分析"
   ]
  },
  {
   "cell_type": "markdown",
   "metadata": {},
   "source": [
    "### 2.1、导入数据"
   ]
  },
  {
   "cell_type": "code",
   "execution_count": 125,
   "metadata": {},
   "outputs": [],
   "source": [
    "import warnings\n",
    "warnings.filterwarnings('ignore') # 忽略警告\n",
    "import pandas as pd\n",
    "import numpy as np\n",
    "import seaborn as sns\n",
    "import matplotlib.pyplot as plt\n",
    "from sklearn.model_selection import train_test_split\n",
    "from sklearn.linear_model import LogisticRegression\n",
    "from sklearn.neighbors import KNeighborsClassifier\n",
    "from sklearn import preprocessing"
   ]
  },
  {
   "cell_type": "code",
   "execution_count": 126,
   "metadata": {},
   "outputs": [
    {
     "name": "stdout",
     "output_type": "stream",
     "text": [
      "训练数据有891行12列\n",
      "测试数据有418行11列\n"
     ]
    }
   ],
   "source": [
    "'''我们先导入测试数据和训练数据'''\n",
    "train_data = pd.read_csv(\"train.csv\")\n",
    "test_data = pd.read_csv(\"test.csv\")\n",
    "print(\"训练数据有{}行{}列\".format(train_data.shape[0],train_data.shape[1]))\n",
    "print(\"测试数据有{}行{}列\".format(test_data.shape[0],test_data.shape[1]))"
   ]
  },
  {
   "cell_type": "markdown",
   "metadata": {},
   "source": [
    "### 2.2、合并数据集"
   ]
  },
  {
   "cell_type": "code",
   "execution_count": 127,
   "metadata": {},
   "outputs": [
    {
     "data": {
      "text/html": [
       "<div>\n",
       "<style scoped>\n",
       "    .dataframe tbody tr th:only-of-type {\n",
       "        vertical-align: middle;\n",
       "    }\n",
       "\n",
       "    .dataframe tbody tr th {\n",
       "        vertical-align: top;\n",
       "    }\n",
       "\n",
       "    .dataframe thead th {\n",
       "        text-align: right;\n",
       "    }\n",
       "</style>\n",
       "<table border=\"1\" class=\"dataframe\">\n",
       "  <thead>\n",
       "    <tr style=\"text-align: right;\">\n",
       "      <th></th>\n",
       "      <th>PassengerId</th>\n",
       "      <th>Survived</th>\n",
       "      <th>Pclass</th>\n",
       "      <th>Name</th>\n",
       "      <th>Sex</th>\n",
       "      <th>Age</th>\n",
       "      <th>SibSp</th>\n",
       "      <th>Parch</th>\n",
       "      <th>Ticket</th>\n",
       "      <th>Fare</th>\n",
       "      <th>Cabin</th>\n",
       "      <th>Embarked</th>\n",
       "    </tr>\n",
       "  </thead>\n",
       "  <tbody>\n",
       "    <tr>\n",
       "      <th>0</th>\n",
       "      <td>1</td>\n",
       "      <td>0.0</td>\n",
       "      <td>3</td>\n",
       "      <td>Braund, Mr. Owen Harris</td>\n",
       "      <td>male</td>\n",
       "      <td>22.0</td>\n",
       "      <td>1</td>\n",
       "      <td>0</td>\n",
       "      <td>A/5 21171</td>\n",
       "      <td>7.2500</td>\n",
       "      <td>NaN</td>\n",
       "      <td>S</td>\n",
       "    </tr>\n",
       "    <tr>\n",
       "      <th>1</th>\n",
       "      <td>2</td>\n",
       "      <td>1.0</td>\n",
       "      <td>1</td>\n",
       "      <td>Cumings, Mrs. John Bradley (Florence Briggs Th...</td>\n",
       "      <td>female</td>\n",
       "      <td>38.0</td>\n",
       "      <td>1</td>\n",
       "      <td>0</td>\n",
       "      <td>PC 17599</td>\n",
       "      <td>71.2833</td>\n",
       "      <td>C85</td>\n",
       "      <td>C</td>\n",
       "    </tr>\n",
       "    <tr>\n",
       "      <th>2</th>\n",
       "      <td>3</td>\n",
       "      <td>1.0</td>\n",
       "      <td>3</td>\n",
       "      <td>Heikkinen, Miss. Laina</td>\n",
       "      <td>female</td>\n",
       "      <td>26.0</td>\n",
       "      <td>0</td>\n",
       "      <td>0</td>\n",
       "      <td>STON/O2. 3101282</td>\n",
       "      <td>7.9250</td>\n",
       "      <td>NaN</td>\n",
       "      <td>S</td>\n",
       "    </tr>\n",
       "    <tr>\n",
       "      <th>3</th>\n",
       "      <td>4</td>\n",
       "      <td>1.0</td>\n",
       "      <td>1</td>\n",
       "      <td>Futrelle, Mrs. Jacques Heath (Lily May Peel)</td>\n",
       "      <td>female</td>\n",
       "      <td>35.0</td>\n",
       "      <td>1</td>\n",
       "      <td>0</td>\n",
       "      <td>113803</td>\n",
       "      <td>53.1000</td>\n",
       "      <td>C123</td>\n",
       "      <td>S</td>\n",
       "    </tr>\n",
       "    <tr>\n",
       "      <th>4</th>\n",
       "      <td>5</td>\n",
       "      <td>0.0</td>\n",
       "      <td>3</td>\n",
       "      <td>Allen, Mr. William Henry</td>\n",
       "      <td>male</td>\n",
       "      <td>35.0</td>\n",
       "      <td>0</td>\n",
       "      <td>0</td>\n",
       "      <td>373450</td>\n",
       "      <td>8.0500</td>\n",
       "      <td>NaN</td>\n",
       "      <td>S</td>\n",
       "    </tr>\n",
       "  </tbody>\n",
       "</table>\n",
       "</div>"
      ],
      "text/plain": [
       "   PassengerId  Survived  Pclass  \\\n",
       "0            1       0.0       3   \n",
       "1            2       1.0       1   \n",
       "2            3       1.0       3   \n",
       "3            4       1.0       1   \n",
       "4            5       0.0       3   \n",
       "\n",
       "                                                Name     Sex   Age  SibSp  \\\n",
       "0                            Braund, Mr. Owen Harris    male  22.0      1   \n",
       "1  Cumings, Mrs. John Bradley (Florence Briggs Th...  female  38.0      1   \n",
       "2                             Heikkinen, Miss. Laina  female  26.0      0   \n",
       "3       Futrelle, Mrs. Jacques Heath (Lily May Peel)  female  35.0      1   \n",
       "4                           Allen, Mr. William Henry    male  35.0      0   \n",
       "\n",
       "   Parch            Ticket     Fare Cabin Embarked  \n",
       "0      0         A/5 21171   7.2500   NaN        S  \n",
       "1      0          PC 17599  71.2833   C85        C  \n",
       "2      0  STON/O2. 3101282   7.9250   NaN        S  \n",
       "3      0            113803  53.1000  C123        S  \n",
       "4      0            373450   8.0500   NaN        S  "
      ]
     },
     "execution_count": 127,
     "metadata": {},
     "output_type": "execute_result"
    }
   ],
   "source": [
    "'''为了便于统一做数据处理，所以这里我们先把两组数据集合并为一个'''\n",
    "whole_data = train_data.merge(test_data,how='outer')\n",
    "whole_data.head()"
   ]
  },
  {
   "cell_type": "markdown",
   "metadata": {},
   "source": [
    "### 2.3、查看数据集特征"
   ]
  },
  {
   "cell_type": "code",
   "execution_count": 128,
   "metadata": {},
   "outputs": [
    {
     "name": "stdout",
     "output_type": "stream",
     "text": [
      "<class 'pandas.core.frame.DataFrame'>\n",
      "Int64Index: 1309 entries, 0 to 1308\n",
      "Data columns (total 12 columns):\n",
      "PassengerId    1309 non-null int64\n",
      "Survived       891 non-null float64\n",
      "Pclass         1309 non-null int64\n",
      "Name           1309 non-null object\n",
      "Sex            1309 non-null object\n",
      "Age            1046 non-null float64\n",
      "SibSp          1309 non-null int64\n",
      "Parch          1309 non-null int64\n",
      "Ticket         1309 non-null object\n",
      "Fare           1308 non-null float64\n",
      "Cabin          295 non-null object\n",
      "Embarked       1307 non-null object\n",
      "dtypes: float64(3), int64(4), object(5)\n",
      "memory usage: 132.9+ KB\n"
     ]
    },
    {
     "data": {
      "text/plain": [
       "'\\n合并数据之后总共有1309条数据记录，其中对于缺失的数据我们重点处理：\\n1、对于数值型数据：年龄（Age）、票价（Fare），我们可以通过取平均值的方式填补空值；\\n2、对于分类型数据：船舱号（Cabin）、登船港口（Embarked)，我们可以取最多的一类来填补空值；\\n'"
      ]
     },
     "execution_count": 128,
     "metadata": {},
     "output_type": "execute_result"
    }
   ],
   "source": [
    "'''查看数据的特征，初步拟定数据清理的方法'''\n",
    "whole_data.info()\n",
    "'''\n",
    "合并数据之后总共有1309条数据记录，其中对于缺失的数据我们重点处理：\n",
    "1、对于数值型数据：年龄（Age）、票价（Fare），我们可以通过取平均值的方式填补空值；\n",
    "2、对于分类型数据：船舱号（Cabin）、登船港口（Embarked)，我们可以取最多的一类来填补空值；\n",
    "'''"
   ]
  },
  {
   "cell_type": "markdown",
   "metadata": {},
   "source": [
    "## 3、数据处理"
   ]
  },
  {
   "cell_type": "markdown",
   "metadata": {},
   "source": [
    "### 3.1、缺失值处理"
   ]
  },
  {
   "cell_type": "markdown",
   "metadata": {},
   "source": [
    "因为在数据分析预测过程中，要求作为特征值的数据最好不能为空值（否则会影响预测），所以我们需要填补数据集中的缺失值：  \n",
    "对于缺失值的处理，我们一般遵循以下原则：  \n",
    "* 对于数据类型，处理缺失值最简单的方法就是用平均数来填充缺失值；\n",
    "* 对于分类类型，处理缺失值最简单的方法就是用频繁出现的值填充缺失值；"
   ]
  },
  {
   "cell_type": "markdown",
   "metadata": {},
   "source": [
    "1) 首先处理whole_data数据集中的数据类型的缺失值：年龄（Age）、票价（Fare）"
   ]
  },
  {
   "cell_type": "code",
   "execution_count": 129,
   "metadata": {},
   "outputs": [],
   "source": [
    "'''\n",
    "根据之前的数据信息，年龄字段的缺失值是1309-1046=263条，我们用年龄的平均值填补年龄字段的缺失值\n",
    "'''\n",
    "whole_data['Age'].fillna(whole_data['Age'].mean(),inplace=True)"
   ]
  },
  {
   "cell_type": "code",
   "execution_count": 130,
   "metadata": {},
   "outputs": [],
   "source": [
    "'''\n",
    "接下来我们处理票价字段的缺失值，所幸缺失数据只有一条，大大减小了我们分析预测的误差；同理，我们用票价的平均值填补票价字段的缺失值\n",
    "'''\n",
    "whole_data['Fare'].fillna(whole_data['Fare'].mean(),inplace=True)"
   ]
  },
  {
   "cell_type": "code",
   "execution_count": 131,
   "metadata": {},
   "outputs": [
    {
     "name": "stdout",
     "output_type": "stream",
     "text": [
      "<class 'pandas.core.frame.DataFrame'>\n",
      "Int64Index: 1309 entries, 0 to 1308\n",
      "Data columns (total 12 columns):\n",
      "PassengerId    1309 non-null int64\n",
      "Survived       891 non-null float64\n",
      "Pclass         1309 non-null int64\n",
      "Name           1309 non-null object\n",
      "Sex            1309 non-null object\n",
      "Age            1309 non-null float64\n",
      "SibSp          1309 non-null int64\n",
      "Parch          1309 non-null int64\n",
      "Ticket         1309 non-null object\n",
      "Fare           1309 non-null float64\n",
      "Cabin          295 non-null object\n",
      "Embarked       1307 non-null object\n",
      "dtypes: float64(3), int64(4), object(5)\n",
      "memory usage: 132.9+ KB\n"
     ]
    }
   ],
   "source": [
    "'''\n",
    "检查年龄（Age）、票价（Fare）字段的缺失值是否填补完毕\n",
    "'''\n",
    "whole_data.info()"
   ]
  },
  {
   "cell_type": "markdown",
   "metadata": {},
   "source": [
    "2) 接下来处理whole_data数据集中的分类类型的缺失值：船舱号（Cabin）、登船港口（Embarked)"
   ]
  },
  {
   "cell_type": "code",
   "execution_count": 132,
   "metadata": {},
   "outputs": [],
   "source": [
    "'''\n",
    "我们可以看到，船舱号(Cabin)字段的缺失值达到1309-295=1014条，缺失值比例较大，如果用频繁出现的值去填充缺失值，数据的误差会大大增加，  \n",
    "可能会给我们的分析预测提供错误的方向，所以这里，我们不用频繁出现的值去填充缺失值，我们直接将缺失值归为未知一类；（注：如果特征值缺失  \n",
    "的比较多，那么如果该特征值不是非常重要，我们可以舍弃）\n",
    "'''\n",
    "whole_data['Cabin'].fillna('unknow',inplace=True)"
   ]
  },
  {
   "cell_type": "code",
   "execution_count": 133,
   "metadata": {},
   "outputs": [
    {
     "name": "stdout",
     "output_type": "stream",
     "text": [
      "S    914\n",
      "C    270\n",
      "Q    123\n",
      "Name: Embarked, dtype: int64\n"
     ]
    }
   ],
   "source": [
    "'''\n",
    "对于登船港口(embarked)字段，由于缺失值为1309-1307=2条，缺失比例较小，所以我们可以用频繁出现的值填补缺失值：首先查看该字段每一类数据  \n",
    "的数量，然后选取数量最多的那一类去填补缺失值\n",
    "'''\n",
    "print(whole_data['Embarked'].value_counts()) # 统计每一类的数量"
   ]
  },
  {
   "cell_type": "code",
   "execution_count": 134,
   "metadata": {},
   "outputs": [],
   "source": [
    "'''我们可以看出S港口的数量最多，所以我们用S港口填补登船港口(embarked)字段的缺失值'''\n",
    "whole_data['Embarked'].fillna('S',inplace=True)"
   ]
  },
  {
   "cell_type": "code",
   "execution_count": 135,
   "metadata": {},
   "outputs": [
    {
     "name": "stdout",
     "output_type": "stream",
     "text": [
      "<class 'pandas.core.frame.DataFrame'>\n",
      "Int64Index: 1309 entries, 0 to 1308\n",
      "Data columns (total 12 columns):\n",
      "PassengerId    1309 non-null int64\n",
      "Survived       891 non-null float64\n",
      "Pclass         1309 non-null int64\n",
      "Name           1309 non-null object\n",
      "Sex            1309 non-null object\n",
      "Age            1309 non-null float64\n",
      "SibSp          1309 non-null int64\n",
      "Parch          1309 non-null int64\n",
      "Ticket         1309 non-null object\n",
      "Fare           1309 non-null float64\n",
      "Cabin          1309 non-null object\n",
      "Embarked       1309 non-null object\n",
      "dtypes: float64(3), int64(4), object(5)\n",
      "memory usage: 132.9+ KB\n"
     ]
    },
    {
     "data": {
      "text/html": [
       "<div>\n",
       "<style scoped>\n",
       "    .dataframe tbody tr th:only-of-type {\n",
       "        vertical-align: middle;\n",
       "    }\n",
       "\n",
       "    .dataframe tbody tr th {\n",
       "        vertical-align: top;\n",
       "    }\n",
       "\n",
       "    .dataframe thead th {\n",
       "        text-align: right;\n",
       "    }\n",
       "</style>\n",
       "<table border=\"1\" class=\"dataframe\">\n",
       "  <thead>\n",
       "    <tr style=\"text-align: right;\">\n",
       "      <th></th>\n",
       "      <th>PassengerId</th>\n",
       "      <th>Survived</th>\n",
       "      <th>Pclass</th>\n",
       "      <th>Name</th>\n",
       "      <th>Sex</th>\n",
       "      <th>Age</th>\n",
       "      <th>SibSp</th>\n",
       "      <th>Parch</th>\n",
       "      <th>Ticket</th>\n",
       "      <th>Fare</th>\n",
       "      <th>Cabin</th>\n",
       "      <th>Embarked</th>\n",
       "    </tr>\n",
       "  </thead>\n",
       "  <tbody>\n",
       "    <tr>\n",
       "      <th>0</th>\n",
       "      <td>1</td>\n",
       "      <td>0.0</td>\n",
       "      <td>3</td>\n",
       "      <td>Braund, Mr. Owen Harris</td>\n",
       "      <td>male</td>\n",
       "      <td>22.0</td>\n",
       "      <td>1</td>\n",
       "      <td>0</td>\n",
       "      <td>A/5 21171</td>\n",
       "      <td>7.2500</td>\n",
       "      <td>unknow</td>\n",
       "      <td>S</td>\n",
       "    </tr>\n",
       "    <tr>\n",
       "      <th>1</th>\n",
       "      <td>2</td>\n",
       "      <td>1.0</td>\n",
       "      <td>1</td>\n",
       "      <td>Cumings, Mrs. John Bradley (Florence Briggs Th...</td>\n",
       "      <td>female</td>\n",
       "      <td>38.0</td>\n",
       "      <td>1</td>\n",
       "      <td>0</td>\n",
       "      <td>PC 17599</td>\n",
       "      <td>71.2833</td>\n",
       "      <td>C85</td>\n",
       "      <td>C</td>\n",
       "    </tr>\n",
       "    <tr>\n",
       "      <th>2</th>\n",
       "      <td>3</td>\n",
       "      <td>1.0</td>\n",
       "      <td>3</td>\n",
       "      <td>Heikkinen, Miss. Laina</td>\n",
       "      <td>female</td>\n",
       "      <td>26.0</td>\n",
       "      <td>0</td>\n",
       "      <td>0</td>\n",
       "      <td>STON/O2. 3101282</td>\n",
       "      <td>7.9250</td>\n",
       "      <td>unknow</td>\n",
       "      <td>S</td>\n",
       "    </tr>\n",
       "    <tr>\n",
       "      <th>3</th>\n",
       "      <td>4</td>\n",
       "      <td>1.0</td>\n",
       "      <td>1</td>\n",
       "      <td>Futrelle, Mrs. Jacques Heath (Lily May Peel)</td>\n",
       "      <td>female</td>\n",
       "      <td>35.0</td>\n",
       "      <td>1</td>\n",
       "      <td>0</td>\n",
       "      <td>113803</td>\n",
       "      <td>53.1000</td>\n",
       "      <td>C123</td>\n",
       "      <td>S</td>\n",
       "    </tr>\n",
       "    <tr>\n",
       "      <th>4</th>\n",
       "      <td>5</td>\n",
       "      <td>0.0</td>\n",
       "      <td>3</td>\n",
       "      <td>Allen, Mr. William Henry</td>\n",
       "      <td>male</td>\n",
       "      <td>35.0</td>\n",
       "      <td>0</td>\n",
       "      <td>0</td>\n",
       "      <td>373450</td>\n",
       "      <td>8.0500</td>\n",
       "      <td>unknow</td>\n",
       "      <td>S</td>\n",
       "    </tr>\n",
       "  </tbody>\n",
       "</table>\n",
       "</div>"
      ],
      "text/plain": [
       "   PassengerId  Survived  Pclass  \\\n",
       "0            1       0.0       3   \n",
       "1            2       1.0       1   \n",
       "2            3       1.0       3   \n",
       "3            4       1.0       1   \n",
       "4            5       0.0       3   \n",
       "\n",
       "                                                Name     Sex   Age  SibSp  \\\n",
       "0                            Braund, Mr. Owen Harris    male  22.0      1   \n",
       "1  Cumings, Mrs. John Bradley (Florence Briggs Th...  female  38.0      1   \n",
       "2                             Heikkinen, Miss. Laina  female  26.0      0   \n",
       "3       Futrelle, Mrs. Jacques Heath (Lily May Peel)  female  35.0      1   \n",
       "4                           Allen, Mr. William Henry    male  35.0      0   \n",
       "\n",
       "   Parch            Ticket     Fare   Cabin Embarked  \n",
       "0      0         A/5 21171   7.2500  unknow        S  \n",
       "1      0          PC 17599  71.2833     C85        C  \n",
       "2      0  STON/O2. 3101282   7.9250  unknow        S  \n",
       "3      0            113803  53.1000    C123        S  \n",
       "4      0            373450   8.0500  unknow        S  "
      ]
     },
     "execution_count": 135,
     "metadata": {},
     "output_type": "execute_result"
    }
   ],
   "source": [
    "'''\n",
    "查看数据集信息，确保缺失值填补完成\n",
    "'''\n",
    "whole_data.info()\n",
    "'''\n",
    "我们可以看到缺失值处理已经全部完成，由于生还(Survived)字段是我们要进行预测是，所以不需要处理这一列\n",
    "'''\n",
    "whole_data.head()"
   ]
  },
  {
   "cell_type": "markdown",
   "metadata": {},
   "source": [
    "### 3.2、特征值处理（数值化）"
   ]
  },
  {
   "cell_type": "markdown",
   "metadata": {},
   "source": [
    "我们后面需要用到机器学习的方法进行生还率是预测，所以数据集的特征值需要全部数值化；对于数据，我们有以下三个分类：  \n",
    "1) 数值数据：\n",
    "    * 乘客编号（PassengerId）\n",
    "    * 年龄（Age）\n",
    "    * 船票价格（Fare）\n",
    "    * 同代直系亲属人数（SibSp）\n",
    "    * 不同代直系亲属人数（Parch）\n",
    "2) 分类数据：\n",
    "  - 已分类：\n",
    "    * 船舱等级(Pclass)\n",
    "    * 性别(Sex)\n",
    "    * 登船港口(Embarked)\n",
    "  - 未分类：\n",
    "    * 乘客姓名（Name）\n",
    "    * 客舱号（Cabin）\n",
    "    * 船票编号（Ticket）   \n",
    "\n",
    "3) 时间序列数据：无  \n",
    "\n",
    "下面我们就将这些特征数据进行数值化"
   ]
  },
  {
   "cell_type": "markdown",
   "metadata": {},
   "source": [
    "### 3.2.1、数值特征值进行数值化  "
   ]
  },
  {
   "cell_type": "markdown",
   "metadata": {},
   "source": [
    "因为乘客编号（PassengerId）、年龄（Age）、船票价格（Fare）已经是我们所需要的，所以这里我们要处理的只有同代直系亲属人数（SibSp）、不同代直系亲属人数（Parch），我们需要增加两个更有意义的字段：亲属人数(FamilySize），是否独自一人(IsAlone)"
   ]
  },
  {
   "cell_type": "code",
   "execution_count": 136,
   "metadata": {},
   "outputs": [],
   "source": [
    "'''\n",
    "亲属人数 = 代直系亲属人数（SibSp）+ 不同代直系亲属人数（Parch）+ 本人\n",
    "'''\n",
    "whole_data['FamilySize'] = whole_data['SibSp'] + whole_data['Parch'] + 1\n",
    "'''\n",
    "1：表示是独自一人登船；0：表示有亲属陪伴\n",
    "'''\n",
    "whole_data['IsAlone'] = whole_data['FamilySize'].map(lambda x : 1 if x == 1 else 0)"
   ]
  },
  {
   "cell_type": "code",
   "execution_count": 137,
   "metadata": {},
   "outputs": [
    {
     "data": {
      "text/html": [
       "<div>\n",
       "<style scoped>\n",
       "    .dataframe tbody tr th:only-of-type {\n",
       "        vertical-align: middle;\n",
       "    }\n",
       "\n",
       "    .dataframe tbody tr th {\n",
       "        vertical-align: top;\n",
       "    }\n",
       "\n",
       "    .dataframe thead th {\n",
       "        text-align: right;\n",
       "    }\n",
       "</style>\n",
       "<table border=\"1\" class=\"dataframe\">\n",
       "  <thead>\n",
       "    <tr style=\"text-align: right;\">\n",
       "      <th></th>\n",
       "      <th>PassengerId</th>\n",
       "      <th>Survived</th>\n",
       "      <th>Pclass</th>\n",
       "      <th>Name</th>\n",
       "      <th>Sex</th>\n",
       "      <th>Age</th>\n",
       "      <th>Ticket</th>\n",
       "      <th>Fare</th>\n",
       "      <th>Cabin</th>\n",
       "      <th>Embarked</th>\n",
       "      <th>FamilySize</th>\n",
       "      <th>IsAlone</th>\n",
       "    </tr>\n",
       "  </thead>\n",
       "  <tbody>\n",
       "    <tr>\n",
       "      <th>0</th>\n",
       "      <td>1</td>\n",
       "      <td>0.0</td>\n",
       "      <td>3</td>\n",
       "      <td>Braund, Mr. Owen Harris</td>\n",
       "      <td>male</td>\n",
       "      <td>22.0</td>\n",
       "      <td>A/5 21171</td>\n",
       "      <td>7.2500</td>\n",
       "      <td>unknow</td>\n",
       "      <td>S</td>\n",
       "      <td>2</td>\n",
       "      <td>0</td>\n",
       "    </tr>\n",
       "    <tr>\n",
       "      <th>1</th>\n",
       "      <td>2</td>\n",
       "      <td>1.0</td>\n",
       "      <td>1</td>\n",
       "      <td>Cumings, Mrs. John Bradley (Florence Briggs Th...</td>\n",
       "      <td>female</td>\n",
       "      <td>38.0</td>\n",
       "      <td>PC 17599</td>\n",
       "      <td>71.2833</td>\n",
       "      <td>C85</td>\n",
       "      <td>C</td>\n",
       "      <td>2</td>\n",
       "      <td>0</td>\n",
       "    </tr>\n",
       "    <tr>\n",
       "      <th>2</th>\n",
       "      <td>3</td>\n",
       "      <td>1.0</td>\n",
       "      <td>3</td>\n",
       "      <td>Heikkinen, Miss. Laina</td>\n",
       "      <td>female</td>\n",
       "      <td>26.0</td>\n",
       "      <td>STON/O2. 3101282</td>\n",
       "      <td>7.9250</td>\n",
       "      <td>unknow</td>\n",
       "      <td>S</td>\n",
       "      <td>1</td>\n",
       "      <td>1</td>\n",
       "    </tr>\n",
       "    <tr>\n",
       "      <th>3</th>\n",
       "      <td>4</td>\n",
       "      <td>1.0</td>\n",
       "      <td>1</td>\n",
       "      <td>Futrelle, Mrs. Jacques Heath (Lily May Peel)</td>\n",
       "      <td>female</td>\n",
       "      <td>35.0</td>\n",
       "      <td>113803</td>\n",
       "      <td>53.1000</td>\n",
       "      <td>C123</td>\n",
       "      <td>S</td>\n",
       "      <td>2</td>\n",
       "      <td>0</td>\n",
       "    </tr>\n",
       "    <tr>\n",
       "      <th>4</th>\n",
       "      <td>5</td>\n",
       "      <td>0.0</td>\n",
       "      <td>3</td>\n",
       "      <td>Allen, Mr. William Henry</td>\n",
       "      <td>male</td>\n",
       "      <td>35.0</td>\n",
       "      <td>373450</td>\n",
       "      <td>8.0500</td>\n",
       "      <td>unknow</td>\n",
       "      <td>S</td>\n",
       "      <td>1</td>\n",
       "      <td>1</td>\n",
       "    </tr>\n",
       "  </tbody>\n",
       "</table>\n",
       "</div>"
      ],
      "text/plain": [
       "   PassengerId  Survived  Pclass  \\\n",
       "0            1       0.0       3   \n",
       "1            2       1.0       1   \n",
       "2            3       1.0       3   \n",
       "3            4       1.0       1   \n",
       "4            5       0.0       3   \n",
       "\n",
       "                                                Name     Sex   Age  \\\n",
       "0                            Braund, Mr. Owen Harris    male  22.0   \n",
       "1  Cumings, Mrs. John Bradley (Florence Briggs Th...  female  38.0   \n",
       "2                             Heikkinen, Miss. Laina  female  26.0   \n",
       "3       Futrelle, Mrs. Jacques Heath (Lily May Peel)  female  35.0   \n",
       "4                           Allen, Mr. William Henry    male  35.0   \n",
       "\n",
       "             Ticket     Fare   Cabin Embarked  FamilySize  IsAlone  \n",
       "0         A/5 21171   7.2500  unknow        S           2        0  \n",
       "1          PC 17599  71.2833     C85        C           2        0  \n",
       "2  STON/O2. 3101282   7.9250  unknow        S           1        1  \n",
       "3            113803  53.1000    C123        S           2        0  \n",
       "4            373450   8.0500  unknow        S           1        1  "
      ]
     },
     "execution_count": 137,
     "metadata": {},
     "output_type": "execute_result"
    }
   ],
   "source": [
    "'''\n",
    "至此，同代直系亲属人数（SibSp）、不同代直系亲属人数（Parch）这两个字段已经没有用处，我们可以把它删掉\n",
    "'''\n",
    "whole_data.drop('SibSp',axis=1,inplace=True)\n",
    "whole_data.drop('Parch',axis=1,inplace=True)\n",
    "'''\n",
    "查看数据是否修改完毕\n",
    "'''\n",
    "whole_data.head()"
   ]
  },
  {
   "cell_type": "markdown",
   "metadata": {},
   "source": [
    "### 3.2.2、分类特征值进行数值化  "
   ]
  },
  {
   "cell_type": "markdown",
   "metadata": {},
   "source": [
    "1) 性别特征值进行数值化：1：男性；0：女性"
   ]
  },
  {
   "cell_type": "code",
   "execution_count": 138,
   "metadata": {},
   "outputs": [],
   "source": [
    "whole_data['Sex']=whole_data['Sex'].map({'male':1,'female':0})"
   ]
  },
  {
   "cell_type": "markdown",
   "metadata": {},
   "source": [
    "2) 登船港口特征值进行数值化：0：表示S=英国 南安普顿Southampton；1：表示C=法国 瑟堡市Cherbourg；2：表示Q=爱尔兰 昆士敦Queenstown"
   ]
  },
  {
   "cell_type": "code",
   "execution_count": 139,
   "metadata": {},
   "outputs": [],
   "source": [
    "whole_data['Embarked']=whole_data['Embarked'].map({'S':0,'C':1,'Q':2})"
   ]
  },
  {
   "cell_type": "markdown",
   "metadata": {},
   "source": [
    "3) 接下来我们对名字(Name)进行数值化：因为名字比较复杂，所以我们需要先进性数据解剖"
   ]
  },
  {
   "cell_type": "code",
   "execution_count": 140,
   "metadata": {},
   "outputs": [
    {
     "data": {
      "text/plain": [
       "'\\n我们发现并不是名字中的每个部分对我们的分析都有帮助，但是字段中间部分的头衔似乎是有规律的，我们可以提取头衔特征值，例如：  \\nBraund, Mr. Owen Harris的头衔是Mr\\n'"
      ]
     },
     "execution_count": 140,
     "metadata": {},
     "output_type": "execute_result"
    }
   ],
   "source": [
    "'''\n",
    "我们先看看名字字段的组成规律\n",
    "'''\n",
    "whole_data['Name'].head()\n",
    "'''\n",
    "我们发现并不是名字中的每个部分对我们的分析都有帮助，但是字段中间部分的头衔似乎是有规律的，我们可以提取头衔特征值，例如：  \n",
    "Braund, Mr. Owen Harris的头衔是Mr\n",
    "'''"
   ]
  },
  {
   "cell_type": "code",
   "execution_count": 141,
   "metadata": {},
   "outputs": [],
   "source": [
    "'''\n",
    "接下来我们要用分割字符的方法从名字(Name)字段中提取头衔特征值，由于涉及到字符分割，所以我们需要构建提取字符的函数，然后在让名字字段的每个  \n",
    "数据调用该函数\n",
    "'''\n",
    "def getTitel(name): # 构建从名字中提取头衔的函数\n",
    "    str1 = name.split(',')[1]\n",
    "    str2 = str1.split('.')[0]\n",
    "    str3 = str2.strip() # 删除字符串首尾指定的字符，默认为空格\n",
    "    return str3\n",
    "whole_data['Titel'] = whole_data['Name'].map(getTitel) "
   ]
  },
  {
   "cell_type": "code",
   "execution_count": 142,
   "metadata": {},
   "outputs": [
    {
     "data": {
      "text/plain": [
       "Mr              757\n",
       "Miss            260\n",
       "Mrs             197\n",
       "Master           61\n",
       "Rev               8\n",
       "Dr                8\n",
       "Col               4\n",
       "Ms                2\n",
       "Major             2\n",
       "Mlle              2\n",
       "Jonkheer          1\n",
       "Lady              1\n",
       "Capt              1\n",
       "Mme               1\n",
       "Dona              1\n",
       "the Countess      1\n",
       "Sir               1\n",
       "Don               1\n",
       "Name: Titel, dtype: int64"
      ]
     },
     "execution_count": 142,
     "metadata": {},
     "output_type": "execute_result"
    }
   ],
   "source": [
    "'''\n",
    "现在我们需要将头衔(Titel)字段进行数值化，需要先查看分为哪几类头衔\n",
    "'''\n",
    "whole_data['Titel'].value_counts()"
   ]
  },
  {
   "cell_type": "code",
   "execution_count": 143,
   "metadata": {},
   "outputs": [],
   "source": [
    "'''\n",
    "由于头衔太多，我们需要把头衔再次归类：总共可以归为Mr、Miss、Mrs、Master、Rare  \n",
    "这里我们要用replace方法替换字符串\n",
    "'''\n",
    "whole_data['Titel'] = whole_data['Titel'].replace(['Ms','Mlle','Lady'],'Miss') # replace是替换字符的方法\n",
    "whole_data['Titel'] = whole_data['Titel'].replace(['Mme'],'Mrs')\n",
    "whole_data['Titel'] = whole_data['Titel'].replace(['Sir'],'Mr')\n",
    "whole_data['Titel'] = whole_data['Titel'].replace(['Dr','Rev','Col','Major','Don','Capt','the Countess','Dona','Jonkheer'],'Rare')"
   ]
  },
  {
   "cell_type": "code",
   "execution_count": 144,
   "metadata": {},
   "outputs": [],
   "source": [
    "'''\n",
    "现在我们将头衔进行数值化：0：表示'Mr'；1：表示'Miss'；2：表示'Mrs'；3：表示'Master'；4：表示'Rare'\n",
    "'''\n",
    "whole_data['Titel'] = whole_data['Titel'].map({'Mr':0,'Miss':1,'Mrs':2,'Master':3,'Rare':4})"
   ]
  },
  {
   "cell_type": "code",
   "execution_count": 145,
   "metadata": {},
   "outputs": [
    {
     "data": {
      "text/html": [
       "<div>\n",
       "<style scoped>\n",
       "    .dataframe tbody tr th:only-of-type {\n",
       "        vertical-align: middle;\n",
       "    }\n",
       "\n",
       "    .dataframe tbody tr th {\n",
       "        vertical-align: top;\n",
       "    }\n",
       "\n",
       "    .dataframe thead th {\n",
       "        text-align: right;\n",
       "    }\n",
       "</style>\n",
       "<table border=\"1\" class=\"dataframe\">\n",
       "  <thead>\n",
       "    <tr style=\"text-align: right;\">\n",
       "      <th></th>\n",
       "      <th>PassengerId</th>\n",
       "      <th>Survived</th>\n",
       "      <th>Pclass</th>\n",
       "      <th>Name</th>\n",
       "      <th>Sex</th>\n",
       "      <th>Age</th>\n",
       "      <th>Ticket</th>\n",
       "      <th>Fare</th>\n",
       "      <th>Cabin</th>\n",
       "      <th>Embarked</th>\n",
       "      <th>FamilySize</th>\n",
       "      <th>IsAlone</th>\n",
       "      <th>Titel</th>\n",
       "    </tr>\n",
       "  </thead>\n",
       "  <tbody>\n",
       "    <tr>\n",
       "      <th>0</th>\n",
       "      <td>1</td>\n",
       "      <td>0.0</td>\n",
       "      <td>3</td>\n",
       "      <td>Braund, Mr. Owen Harris</td>\n",
       "      <td>1</td>\n",
       "      <td>22.0</td>\n",
       "      <td>A/5 21171</td>\n",
       "      <td>7.2500</td>\n",
       "      <td>unknow</td>\n",
       "      <td>0</td>\n",
       "      <td>2</td>\n",
       "      <td>0</td>\n",
       "      <td>0</td>\n",
       "    </tr>\n",
       "    <tr>\n",
       "      <th>1</th>\n",
       "      <td>2</td>\n",
       "      <td>1.0</td>\n",
       "      <td>1</td>\n",
       "      <td>Cumings, Mrs. John Bradley (Florence Briggs Th...</td>\n",
       "      <td>0</td>\n",
       "      <td>38.0</td>\n",
       "      <td>PC 17599</td>\n",
       "      <td>71.2833</td>\n",
       "      <td>C85</td>\n",
       "      <td>1</td>\n",
       "      <td>2</td>\n",
       "      <td>0</td>\n",
       "      <td>2</td>\n",
       "    </tr>\n",
       "    <tr>\n",
       "      <th>2</th>\n",
       "      <td>3</td>\n",
       "      <td>1.0</td>\n",
       "      <td>3</td>\n",
       "      <td>Heikkinen, Miss. Laina</td>\n",
       "      <td>0</td>\n",
       "      <td>26.0</td>\n",
       "      <td>STON/O2. 3101282</td>\n",
       "      <td>7.9250</td>\n",
       "      <td>unknow</td>\n",
       "      <td>0</td>\n",
       "      <td>1</td>\n",
       "      <td>1</td>\n",
       "      <td>1</td>\n",
       "    </tr>\n",
       "    <tr>\n",
       "      <th>3</th>\n",
       "      <td>4</td>\n",
       "      <td>1.0</td>\n",
       "      <td>1</td>\n",
       "      <td>Futrelle, Mrs. Jacques Heath (Lily May Peel)</td>\n",
       "      <td>0</td>\n",
       "      <td>35.0</td>\n",
       "      <td>113803</td>\n",
       "      <td>53.1000</td>\n",
       "      <td>C123</td>\n",
       "      <td>0</td>\n",
       "      <td>2</td>\n",
       "      <td>0</td>\n",
       "      <td>2</td>\n",
       "    </tr>\n",
       "    <tr>\n",
       "      <th>4</th>\n",
       "      <td>5</td>\n",
       "      <td>0.0</td>\n",
       "      <td>3</td>\n",
       "      <td>Allen, Mr. William Henry</td>\n",
       "      <td>1</td>\n",
       "      <td>35.0</td>\n",
       "      <td>373450</td>\n",
       "      <td>8.0500</td>\n",
       "      <td>unknow</td>\n",
       "      <td>0</td>\n",
       "      <td>1</td>\n",
       "      <td>1</td>\n",
       "      <td>0</td>\n",
       "    </tr>\n",
       "  </tbody>\n",
       "</table>\n",
       "</div>"
      ],
      "text/plain": [
       "   PassengerId  Survived  Pclass  \\\n",
       "0            1       0.0       3   \n",
       "1            2       1.0       1   \n",
       "2            3       1.0       3   \n",
       "3            4       1.0       1   \n",
       "4            5       0.0       3   \n",
       "\n",
       "                                                Name  Sex   Age  \\\n",
       "0                            Braund, Mr. Owen Harris    1  22.0   \n",
       "1  Cumings, Mrs. John Bradley (Florence Briggs Th...    0  38.0   \n",
       "2                             Heikkinen, Miss. Laina    0  26.0   \n",
       "3       Futrelle, Mrs. Jacques Heath (Lily May Peel)    0  35.0   \n",
       "4                           Allen, Mr. William Henry    1  35.0   \n",
       "\n",
       "             Ticket     Fare   Cabin  Embarked  FamilySize  IsAlone  Titel  \n",
       "0         A/5 21171   7.2500  unknow         0           2        0      0  \n",
       "1          PC 17599  71.2833     C85         1           2        0      2  \n",
       "2  STON/O2. 3101282   7.9250  unknow         0           1        1      1  \n",
       "3            113803  53.1000    C123         0           2        0      2  \n",
       "4            373450   8.0500  unknow         0           1        1      0  "
      ]
     },
     "execution_count": 145,
     "metadata": {},
     "output_type": "execute_result"
    }
   ],
   "source": [
    "whole_data.head()"
   ]
  },
  {
   "cell_type": "markdown",
   "metadata": {},
   "source": [
    "4) 剔除不需要的特征值：\n",
    "    * 我们已经提取了头衔特征值，所以名字字段可以删除；\n",
    "    * 对于客舱号（Cabin）字段，由于缺失值过多，我们可以把这个特征值也剔除；\n",
    "    * 对于船票编号（Ticket）字段，对于我们分析预测生还率没有太大帮助，所以也可以剔除；"
   ]
  },
  {
   "cell_type": "code",
   "execution_count": 146,
   "metadata": {},
   "outputs": [],
   "source": [
    "'''\n",
    "删除Name/Ticket/Cabin列\n",
    "'''\n",
    "whole_data.drop(['Name','Ticket','Cabin'],axis=1,inplace=True)"
   ]
  },
  {
   "cell_type": "code",
   "execution_count": 147,
   "metadata": {},
   "outputs": [
    {
     "name": "stdout",
     "output_type": "stream",
     "text": [
      "<class 'pandas.core.frame.DataFrame'>\n",
      "Int64Index: 1309 entries, 0 to 1308\n",
      "Data columns (total 10 columns):\n",
      "PassengerId    1309 non-null int64\n",
      "Survived       891 non-null float64\n",
      "Pclass         1309 non-null int64\n",
      "Sex            1309 non-null int64\n",
      "Age            1309 non-null float64\n",
      "Fare           1309 non-null float64\n",
      "Embarked       1309 non-null int64\n",
      "FamilySize     1309 non-null int64\n",
      "IsAlone        1309 non-null int64\n",
      "Titel          1309 non-null int64\n",
      "dtypes: float64(3), int64(7)\n",
      "memory usage: 112.5 KB\n"
     ]
    }
   ],
   "source": [
    "'''\n",
    "至此我们已经完成了整个数据清洗工作，并且提取有效特征值9个\n",
    "'''\n",
    "whole_data.info()"
   ]
  },
  {
   "cell_type": "markdown",
   "metadata": {},
   "source": [
    "## 4、数据分析"
   ]
  },
  {
   "cell_type": "markdown",
   "metadata": {},
   "source": [
    "### 4.1、相关性分析"
   ]
  },
  {
   "cell_type": "markdown",
   "metadata": {},
   "source": [
    "1) 进行数据分析之前，我们需要把训练数据和测试数据分开，我们单独用训练数据进行特征值相关性分析"
   ]
  },
  {
   "cell_type": "code",
   "execution_count": 148,
   "metadata": {},
   "outputs": [],
   "source": [
    "'''\n",
    "前面我们已经知道训练数据的记录是891条，所以我们将891条训练数据和418条测试数据分开\n",
    "'''\n",
    "train_data = whole_data.iloc[0:891, : ]\n",
    "test_data = whole_data.iloc[891: , : ]"
   ]
  },
  {
   "cell_type": "code",
   "execution_count": 149,
   "metadata": {},
   "outputs": [
    {
     "name": "stdout",
     "output_type": "stream",
     "text": [
      "<class 'pandas.core.frame.DataFrame'>\n",
      "Int64Index: 891 entries, 0 to 890\n",
      "Data columns (total 10 columns):\n",
      "PassengerId    891 non-null int64\n",
      "Survived       891 non-null float64\n",
      "Pclass         891 non-null int64\n",
      "Sex            891 non-null int64\n",
      "Age            891 non-null float64\n",
      "Fare           891 non-null float64\n",
      "Embarked       891 non-null int64\n",
      "FamilySize     891 non-null int64\n",
      "IsAlone        891 non-null int64\n",
      "Titel          891 non-null int64\n",
      "dtypes: float64(3), int64(7)\n",
      "memory usage: 76.6 KB\n",
      "<class 'pandas.core.frame.DataFrame'>\n",
      "Int64Index: 418 entries, 891 to 1308\n",
      "Data columns (total 10 columns):\n",
      "PassengerId    418 non-null int64\n",
      "Survived       0 non-null float64\n",
      "Pclass         418 non-null int64\n",
      "Sex            418 non-null int64\n",
      "Age            418 non-null float64\n",
      "Fare           418 non-null float64\n",
      "Embarked       418 non-null int64\n",
      "FamilySize     418 non-null int64\n",
      "IsAlone        418 non-null int64\n",
      "Titel          418 non-null int64\n",
      "dtypes: float64(3), int64(7)\n",
      "memory usage: 35.9 KB\n"
     ]
    }
   ],
   "source": [
    "'''\n",
    "查看数据是否正确\n",
    "'''\n",
    "train_data.info()\n",
    "test_data.info()"
   ]
  },
  {
   "cell_type": "markdown",
   "metadata": {},
   "source": [
    "2) 计算训练数据集中各个特征值的相关系数"
   ]
  },
  {
   "cell_type": "code",
   "execution_count": 150,
   "metadata": {},
   "outputs": [
    {
     "data": {
      "text/plain": [
       "<matplotlib.axes._subplots.AxesSubplot at 0x1a21d88cc0>"
      ]
     },
     "execution_count": 150,
     "metadata": {},
     "output_type": "execute_result"
    },
    {
     "data": {
      "image/png": "[encoded data removed]",
      "text/plain": [
       "<matplotlib.figure.Figure at 0x1a21d5a6a0>"
      ]
     },
     "metadata": {},
     "output_type": "display_data"
    }
   ],
   "source": [
    "'''\n",
    "我们通过热力图的方式展示各个特征值之间的相关性大小\n",
    "'''\n",
    "colormap = plt.cm.RdBu\n",
    "plt.figure(figsize=(14,12))\n",
    "plt.title('Pearson Correlation of Features', y=1.05, size=15)\n",
    "sns.heatmap(train_data.corr(),linewidths=0.1,vmax=1.0, \n",
    "            square=True, cmap=colormap, linecolor='white', annot=True)"
   ]
  },
  {
   "cell_type": "code",
   "execution_count": 151,
   "metadata": {},
   "outputs": [
    {
     "data": {
      "text/plain": [
       "Survived       1.000000\n",
       "Titel          0.402555\n",
       "Fare           0.257307\n",
       "Embarked       0.106811\n",
       "FamilySize     0.016639\n",
       "PassengerId   -0.005007\n",
       "Age           -0.070323\n",
       "IsAlone       -0.203367\n",
       "Pclass        -0.338481\n",
       "Sex           -0.543351\n",
       "Name: Survived, dtype: float64"
      ]
     },
     "execution_count": 151,
     "metadata": {},
     "output_type": "execute_result"
    }
   ],
   "source": [
    "'''\n",
    "我们根据与生存率的相关系数大小对特征值进行排序\n",
    "'''\n",
    "train_data.corr()['Survived'].sort_values(ascending =False)"
   ]
  },
  {
   "cell_type": "markdown",
   "metadata": {},
   "source": [
    "### 4.2、生还率影响因素分析"
   ]
  },
  {
   "cell_type": "markdown",
   "metadata": {},
   "source": [
    "这里为了能直观地看到各个特征值对生还率的影响，我们采用可视化的方式；  "
   ]
  },
  {
   "cell_type": "code",
   "execution_count": 152,
   "metadata": {},
   "outputs": [],
   "source": [
    "'''\n",
    "因为我们下面要绘制多个可视化图表，且大部分处理方法一致，所以我们需要写个绘制可视化图表的函数\n",
    "'''\n",
    "def variable_visulization(feature):\n",
    "    '''\n",
    "    因为我们要做两个绘图，左边显示幸存人数对比柱状图，右边显示幸存几率柱状图；\n",
    "    所以，我们要将figure分两个区域；\n",
    "    下面的1、2分别代表1行2列，figsize代表绘图的大小；\n",
    "    '''\n",
    "    f , ax = plt.subplots(1,2,figsize=(10,5))\n",
    "    '''\n",
    "    我们需要在左边显示feature中每一分类的幸存人数、死亡人数对比柱状图；\n",
    "    因为我们是想做出堆积柱状图，也就是，每一根柱子代表feature中的一个类别，柱子上分成幸存人数和死亡人数，所以我们需要同时\n",
    "    根据[feature,'Survived]进行分组；\n",
    "    count():是计算元素个数的函数（不包含空值、NAN值）；\n",
    "    unstack():将多层次索引的series转化为DataFrame；\n",
    "    plot():参数kind是指定什么类型的图，这里使用柱形图'bar'；参数stacked是指定是否堆积显示；参数ax是指定显示的区域位置；\n",
    "    '''\n",
    "    train_data.groupby([feature,'Survived'])['Survived'].count().unstack().plot(kind='bar',stacked=True,ax=ax[0])\n",
    "    ax[0].set_ylabel('Number of passengers')\n",
    "    ax[0].set_title(feature+' VS Survival VS count')\n",
    "    ax[0].legend(['dead','alive'])\n",
    "    '''\n",
    "    我们需要在右边显示feature中每一分类的幸存率柱状图；\n",
    "    因为幸存是1，死亡是0，所以均值就是幸存几率；\n",
    "    这里我们只需要对feature进行分组，在每组中计算生还率；\n",
    "    '''\n",
    "    train_data.groupby(feature)['Survived'].mean().plot(kind='bar',ax=ax[1])\n",
    "    ax[1].set_ylabel('Survival Rate')\n",
    "    ax[1].set_title(feature+' VS Survival rate')\n",
    "    plt.show()"
   ]
  },
  {
   "cell_type": "code",
   "execution_count": 153,
   "metadata": {},
   "outputs": [
    {
     "data": {
      "image/png": "[encoded data removed]",
      "text/plain": [
       "<matplotlib.figure.Figure at 0x1a21a83da0>"
      ]
     },
     "metadata": {},
     "output_type": "display_data"
    },
    {
     "data": {
      "text/plain": [
       "'\\n从图中可以看出Miss和Mrs的生还率比较高，都为女\\n'"
      ]
     },
     "execution_count": 153,
     "metadata": {},
     "output_type": "execute_result"
    }
   ],
   "source": [
    "'''\n",
    "哪种头衔的人员生还率比较高\n",
    "'''\n",
    "variable_visulization('Titel')\n",
    "'''\n",
    "从图中可以看出Miss和Mrs的生还率比较高，都为女\n",
    "'''"
   ]
  },
  {
   "cell_type": "code",
   "execution_count": 154,
   "metadata": {},
   "outputs": [
    {
     "data": {
      "image/png": "[encoded data removed]",
      "text/plain": [
       "<matplotlib.figure.Figure at 0x1a227e76a0>"
      ]
     },
     "metadata": {},
     "output_type": "display_data"
    },
    {
     "data": {
      "text/plain": [
       "'\\n从法国瑟堡市Cherbourg登船的人员生还率较高\\n'"
      ]
     },
     "execution_count": 154,
     "metadata": {},
     "output_type": "execute_result"
    }
   ],
   "source": [
    "'''\n",
    "哪个港口登船的人员生还率比较高\n",
    "'''\n",
    "variable_visulization('Embarked')\n",
    "'''\n",
    "从法国瑟堡市Cherbourg登船的人员生还率较高\n",
    "'''"
   ]
  },
  {
   "cell_type": "code",
   "execution_count": 155,
   "metadata": {},
   "outputs": [
    {
     "data": {
      "image/png": "[encoded data removed]",
      "text/plain": [
       "<matplotlib.figure.Figure at 0x1a2292e278>"
      ]
     },
     "metadata": {},
     "output_type": "display_data"
    },
    {
     "data": {
      "text/plain": [
       "'\\n从图中可以看出有亲属陪伴的人更容易存活下来，互相帮助\\n'"
      ]
     },
     "execution_count": 155,
     "metadata": {},
     "output_type": "execute_result"
    }
   ],
   "source": [
    "'''\n",
    "有家人陪伴的人是否更容易存活\n",
    "'''\n",
    "variable_visulization('IsAlone')\n",
    "'''\n",
    "从图中可以看出有亲属陪伴的人更容易存活下来，互相帮助\n",
    "'''"
   ]
  },
  {
   "cell_type": "code",
   "execution_count": 156,
   "metadata": {},
   "outputs": [
    {
     "data": {
      "image/png": "[encoded data removed]",
      "text/plain": [
       "<matplotlib.figure.Figure at 0x1a22d03c88>"
      ]
     },
     "metadata": {},
     "output_type": "display_data"
    },
    {
     "data": {
      "text/plain": [
       "'\\n我们可以看到船舱等级越高的乘客，生还几率更大，说明阶级制度还是存在的，尽管在灾难面前\\n'"
      ]
     },
     "execution_count": 156,
     "metadata": {},
     "output_type": "execute_result"
    }
   ],
   "source": [
    "'''\n",
    "船舱等级是否会影响乘客的生还率\n",
    "'''\n",
    "variable_visulization('Pclass')\n",
    "'''\n",
    "我们可以看到船舱等级越高的乘客，生还几率更大，说明阶级制度还是存在的，尽管在灾难面前\n",
    "'''"
   ]
  },
  {
   "cell_type": "code",
   "execution_count": 157,
   "metadata": {},
   "outputs": [
    {
     "data": {
      "image/png": "[encoded data removed]",
      "text/plain": [
       "<matplotlib.figure.Figure at 0x1a22eaf908>"
      ]
     },
     "metadata": {},
     "output_type": "display_data"
    },
    {
     "data": {
      "text/plain": [
       "'\\n我们可以看到女士的生还率大大高于男士\\n'"
      ]
     },
     "execution_count": 157,
     "metadata": {},
     "output_type": "execute_result"
    }
   ],
   "source": [
    "'''\n",
    "性别是否会影响乘客的生还率\n",
    "'''\n",
    "variable_visulization('Sex')\n",
    "'''\n",
    "我们可以看到女士的生还率大大高于男士\n",
    "'''"
   ]
  },
  {
   "cell_type": "markdown",
   "metadata": {},
   "source": [
    "## 5、生还率预测"
   ]
  },
  {
   "cell_type": "markdown",
   "metadata": {},
   "source": [
    "### 5.1、机器学习模型构建"
   ]
  },
  {
   "cell_type": "markdown",
   "metadata": {},
   "source": [
    "越靠近0相关性越小，所以我们从以上特征值中选取相关系数绝对值大于0.1的特征值进行下一步分析预测；我们保留以下的特征值：  \n",
    "    * 头衔(Titel)          \n",
    "    * 票价(Fare)         \n",
    "    * 登船港口(Embarked)            \n",
    "    * 是否独自一人(IsAlone)       \n",
    "    * 船舱等级(Pclass)        \n",
    "    * 性别(Sex)           "
   ]
  },
  {
   "cell_type": "code",
   "execution_count": 158,
   "metadata": {},
   "outputs": [],
   "source": [
    "'''\n",
    "训练数据集和测试数据集保留一样的特征值,我们需要以下几个数据集：  \n",
    "    train_x:训练数据集（特征）\n",
    "    train_y:训练数据集（输出）\n",
    "    predict_x:预测数据集（特征）\n",
    "    predict_y:预测数据集（输出）\n",
    "'''\n",
    "train_x = train_data.drop(['Survived','FamilySize','PassengerId','Age'],axis=1)\n",
    "train_y = train_data['Survived']\n",
    "predict_x = test_data.drop(['Survived','FamilySize','PassengerId','Age'],axis=1)"
   ]
  },
  {
   "cell_type": "code",
   "execution_count": 159,
   "metadata": {},
   "outputs": [],
   "source": [
    "'''对数据进行标准化'''\n",
    "train_x = preprocessing.scale(train_x)"
   ]
  },
  {
   "cell_type": "code",
   "execution_count": 160,
   "metadata": {},
   "outputs": [
    {
     "name": "stdout",
     "output_type": "stream",
     "text": [
      "训练数据集特征： (623, 6) 测试数据集特征： (268, 6)\n",
      "训练数据集输出： (623,) 测试数据集输出： (268,)\n"
     ]
    }
   ],
   "source": [
    "'''\n",
    "train_test_split函数用于将矩阵随机划分为训练子集和测试子集，并返回划分好的训练集测试集样本和训练集测试集标签，格式：\n",
    "X_train,X_test, y_train, y_test = train_test_split(train_data,train_target,test_size=0.3, random_state=0)\n",
    "参数解释：\n",
    "train_data：被划分的样本特征集\n",
    "train_target：被划分的样本标签\n",
    "test_size：如果是浮点数，在0-1之间，表示样本占比；如果是整数的话就是样本的数量\n",
    "random_state：是随机数的种子。\n",
    "随机数种子：其实就是该组随机数的编号，在需要重复试验的时候，保证得到一组一样的随机数。比如你每次都填1，其他参数一样的情况下你得到的随机数组是一样的。\n",
    "但填0或不填，每次都会不一样。\n",
    "随机数的产生取决于种子，随机数和种子之间的关系遵从以下两个规则：\n",
    "种子不同，产生不同的随机数；种子相同，即使实例不同也产生相同的随机数。\n",
    "'''\n",
    "x_train, x_test, y_train, y_test = train_test_split(train_x,train_y,test_size=0.3)\n",
    "\n",
    "'''\n",
    "查看划分之后的训练子集和测试子集的数据量\n",
    "'''\n",
    "print ('训练数据集特征：',x_train.shape ,\n",
    "      '测试数据集特征：',x_test.shape)\n",
    "\n",
    "print ('训练数据集输出：',y_train.shape ,\n",
    "      '测试数据集输出：',y_test.shape)"
   ]
  },
  {
   "cell_type": "markdown",
   "metadata": {},
   "source": [
    "### 5.2、机器学习模型训练"
   ]
  },
  {
   "cell_type": "markdown",
   "metadata": {},
   "source": [
    "这里我们选用K邻近分类算法"
   ]
  },
  {
   "cell_type": "code",
   "execution_count": 161,
   "metadata": {},
   "outputs": [
    {
     "data": {
      "text/plain": [
       "KNeighborsClassifier(algorithm='auto', leaf_size=30, metric='minkowski',\n",
       "           metric_params=None, n_jobs=1, n_neighbors=5, p=2,\n",
       "           weights='uniform')"
      ]
     },
     "execution_count": 161,
     "metadata": {},
     "output_type": "execute_result"
    }
   ],
   "source": [
    "model = KNeighborsClassifier() \n",
    "model.fit(x_train , y_train) # 输入训练数据开始训练机器学习模型"
   ]
  },
  {
   "cell_type": "markdown",
   "metadata": {},
   "source": [
    "### 5.3、用测试数据对模型进行评分"
   ]
  },
  {
   "cell_type": "code",
   "execution_count": 162,
   "metadata": {},
   "outputs": [
    {
     "data": {
      "text/plain": [
       "0.8022388059701493"
      ]
     },
     "execution_count": 162,
     "metadata": {},
     "output_type": "execute_result"
    }
   ],
   "source": [
    "model.score(x_test , y_test)"
   ]
  },
  {
   "cell_type": "markdown",
   "metadata": {},
   "source": [
    "### 5.4、用模型预测生还率"
   ]
  },
  {
   "cell_type": "code",
   "execution_count": 163,
   "metadata": {},
   "outputs": [],
   "source": [
    "predict_y = model.predict(predict_x)\n",
    "predict_y = predict_y.astype(int)\n",
    "passenger_id = test_data['PassengerId']\n",
    "predict_data = pd.DataFrame({ 'PassengerId': passenger_id , 'Survived': predict_y })\n",
    "predict_data.shape\n",
    "predict_data.head()\n",
    "predict_data.to_csv('titanic_predict.csv' , index = False )"
   ]
  },
  {
   "cell_type": "code",
   "execution_count": 164,
   "metadata": {},
   "outputs": [
    {
     "data": {
      "text/plain": [
       "1    299\n",
       "0    119\n",
       "Name: Survived, dtype: int64"
      ]
     },
     "execution_count": 164,
     "metadata": {},
     "output_type": "execute_result"
    }
   ],
   "source": [
    "predict_data['Survived'].value_counts()\n"
   ]
  },
  {
   "cell_type": "markdown",
   "metadata": {},
   "source": [
    "\n",
    "根据我们的预测模型，预测数据集中会有161名乘客获得生还，生还率为38.52%\n"
   ]
  }
 ],
 "metadata": {
  "kernelspec": {
   "display_name": "Python 3",
   "language": "python",
   "name": "python3"
  },
  "language_info": {
   "codemirror_mode": {
    "name": "ipython",
    "version": 3
   },
   "file_extension": ".py",
   "mimetype": "text/x-python",
   "name": "python",
   "nbconvert_exporter": "python",
   "pygments_lexer": "ipython3",
   "version": "3.6.4"
  }
 },
 "nbformat": 4,
 "nbformat_minor": 2
}
